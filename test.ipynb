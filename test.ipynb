{
 "cells": [
  {
   "cell_type": "code",
   "execution_count": 27,
   "metadata": {
    "id": "qeNcvR4aqsqG"
   },
   "outputs": [],
   "source": [
    "import pandas as pd\n",
    "import numpy as np\n",
    "from sklearn.model_selection import train_test_split\n",
    "from sklearn.impute import KNNImputer\n",
    "import pandas as pd\n",
    "from sklearn.model_selection import train_test_split\n",
    "import numpy as np\n",
    "from sklearn.impute import KNNImputer\n",
    "from sklearn.pipeline import Pipeline\n",
    "from sklearn.preprocessing import StandardScaler, OneHotEncoder, OrdinalEncoder\n",
    "from sklearn.impute import SimpleImputer\n",
    "from sklearn.compose import ColumnTransformer\n",
    "import joblib\n",
    "from scipy import stats\n",
    "import seaborn as sns\n",
    "import matplotlib.pyplot as plt\n",
    "\n",
    "# considering the following possibilities: Decision Trees, RandomForest, Xgboost, MLPN, Support Vector Machines\n",
    "from sklearn import tree\n",
    "from sklearn.ensemble import RandomForestClassifier\n",
    "from sklearn.neural_network import MLPClassifier\n",
    "from sklearn import svm\n",
    "\n",
    "# cross validation for HP\n",
    "from sklearn.model_selection import GridSearchCV\n",
    "from sklearn.model_selection import RandomizedSearchCV\n",
    "\n",
    "#Feature selection\n",
    "from sklearn.feature_selection import SelectKBest, f_classif\n",
    "#from sklearn.feature_selection import ch2i\n",
    "\n",
    "# Evaluation\n",
    "from sklearn.metrics import precision_recall_curve\n",
    "from sklearn.metrics import classification_report\n",
    "from sklearn.metrics import confusion_matrix\n",
    "from sklearn.metrics import roc_curve, roc_auc_score,auc, f1_score\n",
    "import warnings\n",
    "warnings.filterwarnings('ignore')"
   ]
  },
  {
   "cell_type": "code",
   "execution_count": 28,
   "metadata": {
    "colab": {
     "base_uri": "https://localhost:8080/"
    },
    "id": "68zmNNrxq4i1",
    "outputId": "29a4572b-1308-4f59-940e-e9f7c577f7bc"
   },
   "outputs": [],
   "source": [
    "# from google.colab import drive\n",
    "# drive.mount('/content/drive')"
   ]
  },
  {
   "cell_type": "code",
   "execution_count": 29,
   "metadata": {
    "id": "9pkZbpcGq-1G"
   },
   "outputs": [],
   "source": [
    "PROJECT_FOLDER_PATH = \"\"\n",
    "TESTSET_PATH = PROJECT_FOLDER_PATH + \"data/test_video_games.csv\"\n",
    "\n",
    "TARGET_FEATURE = \"Metrics.Review Score\""
   ]
  },
  {
   "cell_type": "code",
   "execution_count": 30,
   "metadata": {
    "colab": {
     "base_uri": "https://localhost:8080/"
    },
    "id": "iLH0aH5Oq_x_",
    "outputId": "437de39f-eff4-4191-965c-398d7a790718"
   },
   "outputs": [
    {
     "name": "stdout",
     "output_type": "stream",
     "text": [
      "<class 'pandas.core.frame.DataFrame'>\n",
      "RangeIndex: 303 entries, 0 to 302\n",
      "Data columns (total 36 columns):\n",
      " #   Column                         Non-Null Count  Dtype  \n",
      "---  ------                         --------------  -----  \n",
      " 0   Title                          303 non-null    object \n",
      " 1   Features.Handheld?             303 non-null    bool   \n",
      " 2   Features.Max Players           303 non-null    int64  \n",
      " 3   Features.Multiplatform?        303 non-null    bool   \n",
      " 4   Features.Online?               303 non-null    bool   \n",
      " 5   Metadata.Genres                303 non-null    object \n",
      " 6   Metadata.Licensed?             303 non-null    bool   \n",
      " 7   Metadata.Publishers            240 non-null    object \n",
      " 8   Metadata.Sequel?               303 non-null    bool   \n",
      " 9   Metrics.Review Score           303 non-null    int64  \n",
      " 10  Metrics.Sales                  303 non-null    float64\n",
      " 11  Metrics.Used Price             303 non-null    float64\n",
      " 12  Release.Console                303 non-null    object \n",
      " 13  Release.Rating                 303 non-null    object \n",
      " 14  Release.Re-release?            303 non-null    bool   \n",
      " 15  Release.Year                   303 non-null    int64  \n",
      " 16  Length.All PlayStyles.Average  303 non-null    float64\n",
      " 17  Length.All PlayStyles.Leisure  303 non-null    float64\n",
      " 18  Length.All PlayStyles.Median   303 non-null    float64\n",
      " 19  Length.All PlayStyles.Polled   303 non-null    int64  \n",
      " 20  Length.All PlayStyles.Rushed   303 non-null    float64\n",
      " 21  Length.Completionists.Average  303 non-null    float64\n",
      " 22  Length.Completionists.Leisure  303 non-null    float64\n",
      " 23  Length.Completionists.Median   303 non-null    float64\n",
      " 24  Length.Completionists.Polled   303 non-null    int64  \n",
      " 25  Length.Completionists.Rushed   303 non-null    float64\n",
      " 26  Length.Main + Extras.Average   303 non-null    float64\n",
      " 27  Length.Main + Extras.Leisure   303 non-null    float64\n",
      " 28  Length.Main + Extras.Median    303 non-null    float64\n",
      " 29  Length.Main + Extras.Polled    303 non-null    int64  \n",
      " 30  Length.Main + Extras.Rushed    303 non-null    float64\n",
      " 31  Length.Main Story.Average      303 non-null    float64\n",
      " 32  Length.Main Story.Leisure      303 non-null    float64\n",
      " 33  Length.Main Story.Median       303 non-null    float64\n",
      " 34  Length.Main Story.Polled       303 non-null    int64  \n",
      " 35  Length.Main Story.Rushed       303 non-null    float64\n",
      "dtypes: bool(6), float64(18), int64(7), object(5)\n",
      "memory usage: 72.9+ KB\n"
     ]
    }
   ],
   "source": [
    "test_df=pd.read_csv(TESTSET_PATH, header=0)\n",
    "# check the null values\n",
    "test_df.info()"
   ]
  },
  {
   "cell_type": "code",
   "execution_count": 31,
   "metadata": {
    "id": "40BhcpgOrGTX"
   },
   "outputs": [],
   "source": [
    "\n",
    "delete_list = joblib.load(PROJECT_FOLDER_PATH+'output/delete_list.pkl')\n",
    "test_df.drop(delete_list, axis=1, inplace=True)"
   ]
  },
  {
   "cell_type": "code",
   "execution_count": 32,
   "metadata": {},
   "outputs": [
    {
     "data": {
      "text/plain": [
       "['Title',\n",
       " 'Features.Multiplatform?',\n",
       " 'Metadata.Sequel?',\n",
       " 'Features.Handheld?',\n",
       " 'Metadata.Licensed?',\n",
       " 'Features.Online?',\n",
       " 'Release.Re-release?',\n",
       " 'Release.Year']"
      ]
     },
     "execution_count": 32,
     "metadata": {},
     "output_type": "execute_result"
    }
   ],
   "source": [
    "delete_list"
   ]
  },
  {
   "cell_type": "code",
   "execution_count": 33,
   "metadata": {
    "id": "rIGhUrk5rJTP"
   },
   "outputs": [],
   "source": [
    "## load cat_attribs and num_attribs name\n",
    "TARGET_FEATURE = \"Metrics.Review Score\"\n",
    "num_attribs=joblib.load(PROJECT_FOLDER_PATH+'output/num_attribs.pkl')\n",
    "cat_attribs=joblib.load(PROJECT_FOLDER_PATH+'output/cat_attribs.pkl')"
   ]
  },
  {
   "cell_type": "code",
   "execution_count": 34,
   "metadata": {},
   "outputs": [],
   "source": [
    "test_df[num_attribs] = test_df[num_attribs].replace(0, np.nan)"
   ]
  },
  {
   "cell_type": "code",
   "execution_count": 35,
   "metadata": {
    "colab": {
     "base_uri": "https://localhost:8080/",
     "height": 374
    },
    "id": "3eWfoPSKrMSK",
    "outputId": "6320857d-ae67-4656-b0b7-4ce4e8e573ec"
   },
   "outputs": [
    {
     "name": "stdout",
     "output_type": "stream",
     "text": [
      "[ColumnTransformer] ..... (1 of 2) Processing numerical, total=   0.0s\n",
      "[ColumnTransformer] ..... (2 of 2) Processing remainder, total=   0.0s\n"
     ]
    }
   ],
   "source": [
    "test_df=test_df[num_attribs+cat_attribs+[TARGET_FEATURE]]\n",
    "preprocessing = joblib.load(PROJECT_FOLDER_PATH+'output/preprocessing.pkl')\n",
    "test_df = pd.DataFrame(preprocessing.fit_transform(test_df), columns=test_df.columns)"
   ]
  },
  {
   "cell_type": "code",
   "execution_count": 36,
   "metadata": {
    "id": "DXNrHZbkrQK-"
   },
   "outputs": [],
   "source": [
    "X_test = test_df.drop(TARGET_FEATURE, axis=1)\n",
    "y_test = test_df[TARGET_FEATURE]"
   ]
  },
  {
   "cell_type": "code",
   "execution_count": 37,
   "metadata": {
    "id": "QKBpg5YB64yz"
   },
   "outputs": [
    {
     "data": {
      "text/plain": [
       "no     225\n",
       "yes     78\n",
       "dtype: int64"
      ]
     },
     "execution_count": 37,
     "metadata": {},
     "output_type": "execute_result"
    }
   ],
   "source": [
    "# binning based on the domain knowledge and intuition\n",
    "y_test = pd.Series( np.where(y_test >= 80, 'yes', 'no'))\n",
    "y_test.value_counts()"
   ]
  },
  {
   "cell_type": "code",
   "execution_count": 38,
   "metadata": {
    "id": "DBTbeKifrSu7"
   },
   "outputs": [],
   "source": [
    "for feature in cat_attribs:\n",
    "  # encode the publishers and genres columns splitting on ','\n",
    "  if feature == 'Metadata.Publishers' or feature == 'Metadata.Genres':\n",
    "    new_columns = X_test[feature].str.get_dummies(sep=',').add_prefix(feature[:-1] + \"_\")\n",
    "  # encode all the remaining categorical features with \"classic\" one-hot encoding\n",
    "  else:\n",
    "    new_columns = pd.get_dummies(X_test[feature], prefix=feature)\n",
    "\n",
    "  # add new columns and remove the original feature column\n",
    "  X_test = pd.concat([X_test, new_columns], axis=1)\n",
    "  X_test.drop([feature], axis=1, inplace=True)\n"
   ]
  },
  {
   "cell_type": "code",
   "execution_count": 39,
   "metadata": {
    "id": "eObz18-QrV-6"
   },
   "outputs": [],
   "source": [
    "  ## rearrange the column reading the final_attribs.pkl file\n",
    "\n",
    "  final_attribs = joblib.load(PROJECT_FOLDER_PATH+'output/final_attribs.pkl')"
   ]
  },
  {
   "cell_type": "code",
   "execution_count": 40,
   "metadata": {
    "id": "CEMOcEw1raCX"
   },
   "outputs": [
    {
     "name": "stdout",
     "output_type": "stream",
     "text": [
      "Metadata.Genre_Educational\n"
     ]
    }
   ],
   "source": [
    "X_test_new = pd.DataFrame()\n",
    "for i in final_attribs:\n",
    "  if i in ((X_test.columns).tolist()):\n",
    "      X_test_new[i]=X_test[i]\n",
    "  else:\n",
    "     print(i)\n",
    "     X_test_new[i] = np.zeros((X_test.shape[0],), dtype=int)\n",
    "X_test=X_test_new"
   ]
  },
  {
   "cell_type": "code",
   "execution_count": 41,
   "metadata": {
    "id": "0zXBCqHBrekm"
   },
   "outputs": [
    {
     "name": "stdout",
     "output_type": "stream",
     "text": [
      "GridSearchCV(cv=3,\n",
      "             estimator=XGBClassifier(base_score=None, booster=None,\n",
      "                                     colsample_bylevel=None,\n",
      "                                     colsample_bynode=None,\n",
      "                                     colsample_bytree=None,\n",
      "                                     enable_categorical=False, gamma=None,\n",
      "                                     gpu_id=None, importance_type=None,\n",
      "                                     interaction_constraints=None,\n",
      "                                     learning_rate=None, max_delta_step=None,\n",
      "                                     max_depth=None, min_child_weight=None,\n",
      "                                     missing=nan, monotone_constraints=None,...\n",
      "                                     random_state=None, reg_alpha=None,\n",
      "                                     reg_lambda=None, scale_pos_weight=None,\n",
      "                                     subsample=None, tree_method=None,\n",
      "                                     validate_parameters=None, verbosity=None),\n",
      "             n_jobs=-1,\n",
      "             param_grid={'colsample_bytree': [0.5], 'gamma': [0, 0.25, 1],\n",
      "                         'learning_rate': [0.1, 0.01, 0.05],\n",
      "                         'max_depth': [3, 4, 5, 7],\n",
      "                         'n_estimators': [1, 10, 100, 1000],\n",
      "                         'reg_lambda': [0, 1, 10],\n",
      "                         'scale_pos_weight': [1, 3, 5], 'subsample': [0.8]},\n",
      "             scoring='accuracy')\n"
     ]
    }
   ],
   "source": [
    "best_model=joblib.load(PROJECT_FOLDER_PATH+'output/best_model.pkl')\n",
    "print(best_model)"
   ]
  },
  {
   "cell_type": "code",
   "execution_count": 42,
   "metadata": {},
   "outputs": [
    {
     "data": {
      "text/html": [
       "<div>\n",
       "<style scoped>\n",
       "    .dataframe tbody tr th:only-of-type {\n",
       "        vertical-align: middle;\n",
       "    }\n",
       "\n",
       "    .dataframe tbody tr th {\n",
       "        vertical-align: top;\n",
       "    }\n",
       "\n",
       "    .dataframe thead th {\n",
       "        text-align: right;\n",
       "    }\n",
       "</style>\n",
       "<table border=\"1\" class=\"dataframe\">\n",
       "  <thead>\n",
       "    <tr style=\"text-align: right;\">\n",
       "      <th></th>\n",
       "      <th>Features.Max Players</th>\n",
       "      <th>Metrics.Sales</th>\n",
       "      <th>Metrics.Used Price</th>\n",
       "      <th>Length.All PlayStyles.Average</th>\n",
       "      <th>Length.All PlayStyles.Leisure</th>\n",
       "      <th>Length.All PlayStyles.Median</th>\n",
       "      <th>Length.All PlayStyles.Polled</th>\n",
       "      <th>Length.All PlayStyles.Rushed</th>\n",
       "      <th>Length.Completionists.Average</th>\n",
       "      <th>Length.Completionists.Leisure</th>\n",
       "      <th>...</th>\n",
       "      <th>Metadata.Publisher_Microsoft</th>\n",
       "      <th>Metadata.Publisher_Midway</th>\n",
       "      <th>Metadata.Publisher_Namco</th>\n",
       "      <th>Metadata.Publisher_Nintendo</th>\n",
       "      <th>Metadata.Publisher_Rockstar</th>\n",
       "      <th>Metadata.Publisher_Sega</th>\n",
       "      <th>Metadata.Publisher_Sony</th>\n",
       "      <th>Metadata.Publisher_SquareEnix</th>\n",
       "      <th>Metadata.Publisher_THQ</th>\n",
       "      <th>Metadata.Publisher_Ubisoft</th>\n",
       "    </tr>\n",
       "  </thead>\n",
       "  <tbody>\n",
       "    <tr>\n",
       "      <th>0</th>\n",
       "      <td>0.234079</td>\n",
       "      <td>0.739406</td>\n",
       "      <td>-0.43106</td>\n",
       "      <td>-0.812119</td>\n",
       "      <td>-0.606864</td>\n",
       "      <td>-0.851962</td>\n",
       "      <td>-0.311924</td>\n",
       "      <td>-0.851326</td>\n",
       "      <td>-0.662004</td>\n",
       "      <td>-0.564965</td>\n",
       "      <td>...</td>\n",
       "      <td>0</td>\n",
       "      <td>0</td>\n",
       "      <td>0</td>\n",
       "      <td>0</td>\n",
       "      <td>0</td>\n",
       "      <td>0</td>\n",
       "      <td>0</td>\n",
       "      <td>0</td>\n",
       "      <td>0</td>\n",
       "      <td>0</td>\n",
       "    </tr>\n",
       "    <tr>\n",
       "      <th>1</th>\n",
       "      <td>-0.571898</td>\n",
       "      <td>-0.391854</td>\n",
       "      <td>0.576742</td>\n",
       "      <td>-0.015943</td>\n",
       "      <td>0.0705</td>\n",
       "      <td>-0.023717</td>\n",
       "      <td>0.177628</td>\n",
       "      <td>-0.131134</td>\n",
       "      <td>0.054988</td>\n",
       "      <td>0.028112</td>\n",
       "      <td>...</td>\n",
       "      <td>0</td>\n",
       "      <td>0</td>\n",
       "      <td>0</td>\n",
       "      <td>0</td>\n",
       "      <td>0</td>\n",
       "      <td>0</td>\n",
       "      <td>0</td>\n",
       "      <td>0</td>\n",
       "      <td>0</td>\n",
       "      <td>0</td>\n",
       "    </tr>\n",
       "    <tr>\n",
       "      <th>2</th>\n",
       "      <td>-0.571898</td>\n",
       "      <td>0.047143</td>\n",
       "      <td>0.576742</td>\n",
       "      <td>-0.219011</td>\n",
       "      <td>0.591236</td>\n",
       "      <td>-0.17595</td>\n",
       "      <td>1.082964</td>\n",
       "      <td>-0.258932</td>\n",
       "      <td>0.79628</td>\n",
       "      <td>0.795685</td>\n",
       "      <td>...</td>\n",
       "      <td>0</td>\n",
       "      <td>0</td>\n",
       "      <td>0</td>\n",
       "      <td>0</td>\n",
       "      <td>0</td>\n",
       "      <td>0</td>\n",
       "      <td>0</td>\n",
       "      <td>0</td>\n",
       "      <td>0</td>\n",
       "      <td>0</td>\n",
       "    </tr>\n",
       "    <tr>\n",
       "      <th>3</th>\n",
       "      <td>0.234079</td>\n",
       "      <td>-0.315874</td>\n",
       "      <td>-0.83418</td>\n",
       "      <td>0.356215</td>\n",
       "      <td>-0.129284</td>\n",
       "      <td>0.688715</td>\n",
       "      <td>-0.305218</td>\n",
       "      <td>0.95581</td>\n",
       "      <td>0.025654</td>\n",
       "      <td>-0.081319</td>\n",
       "      <td>...</td>\n",
       "      <td>0</td>\n",
       "      <td>0</td>\n",
       "      <td>0</td>\n",
       "      <td>0</td>\n",
       "      <td>0</td>\n",
       "      <td>0</td>\n",
       "      <td>1</td>\n",
       "      <td>0</td>\n",
       "      <td>0</td>\n",
       "      <td>0</td>\n",
       "    </tr>\n",
       "    <tr>\n",
       "      <th>4</th>\n",
       "      <td>0.234079</td>\n",
       "      <td>-0.290547</td>\n",
       "      <td>-0.83418</td>\n",
       "      <td>-0.232323</td>\n",
       "      <td>-0.237626</td>\n",
       "      <td>-0.475963</td>\n",
       "      <td>-0.305218</td>\n",
       "      <td>-0.290881</td>\n",
       "      <td>0.051503</td>\n",
       "      <td>-0.077503</td>\n",
       "      <td>...</td>\n",
       "      <td>0</td>\n",
       "      <td>0</td>\n",
       "      <td>0</td>\n",
       "      <td>0</td>\n",
       "      <td>0</td>\n",
       "      <td>0</td>\n",
       "      <td>0</td>\n",
       "      <td>0</td>\n",
       "      <td>0</td>\n",
       "      <td>0</td>\n",
       "    </tr>\n",
       "    <tr>\n",
       "      <th>...</th>\n",
       "      <td>...</td>\n",
       "      <td>...</td>\n",
       "      <td>...</td>\n",
       "      <td>...</td>\n",
       "      <td>...</td>\n",
       "      <td>...</td>\n",
       "      <td>...</td>\n",
       "      <td>...</td>\n",
       "      <td>...</td>\n",
       "      <td>...</td>\n",
       "      <td>...</td>\n",
       "      <td>...</td>\n",
       "      <td>...</td>\n",
       "      <td>...</td>\n",
       "      <td>...</td>\n",
       "      <td>...</td>\n",
       "      <td>...</td>\n",
       "      <td>...</td>\n",
       "      <td>...</td>\n",
       "      <td>...</td>\n",
       "      <td>...</td>\n",
       "    </tr>\n",
       "    <tr>\n",
       "      <th>298</th>\n",
       "      <td>-0.571898</td>\n",
       "      <td>-0.374969</td>\n",
       "      <td>-0.027939</td>\n",
       "      <td>-0.339619</td>\n",
       "      <td>-0.344082</td>\n",
       "      <td>-0.208703</td>\n",
       "      <td>-0.138905</td>\n",
       "      <td>-0.244621</td>\n",
       "      <td>-0.346202</td>\n",
       "      <td>-0.333619</td>\n",
       "      <td>...</td>\n",
       "      <td>0</td>\n",
       "      <td>0</td>\n",
       "      <td>1</td>\n",
       "      <td>0</td>\n",
       "      <td>0</td>\n",
       "      <td>0</td>\n",
       "      <td>0</td>\n",
       "      <td>0</td>\n",
       "      <td>0</td>\n",
       "      <td>0</td>\n",
       "    </tr>\n",
       "    <tr>\n",
       "      <th>299</th>\n",
       "      <td>1.846032</td>\n",
       "      <td>2.816198</td>\n",
       "      <td>4.607947</td>\n",
       "      <td>-0.645214</td>\n",
       "      <td>-0.458988</td>\n",
       "      <td>-0.726192</td>\n",
       "      <td>-0.211332</td>\n",
       "      <td>-0.761469</td>\n",
       "      <td>-0.561997</td>\n",
       "      <td>-0.4642</td>\n",
       "      <td>...</td>\n",
       "      <td>0</td>\n",
       "      <td>0</td>\n",
       "      <td>0</td>\n",
       "      <td>1</td>\n",
       "      <td>0</td>\n",
       "      <td>0</td>\n",
       "      <td>0</td>\n",
       "      <td>0</td>\n",
       "      <td>0</td>\n",
       "      <td>0</td>\n",
       "    </tr>\n",
       "    <tr>\n",
       "      <th>300</th>\n",
       "      <td>-0.571898</td>\n",
       "      <td>-0.332758</td>\n",
       "      <td>-0.43106</td>\n",
       "      <td>-0.453472</td>\n",
       "      <td>-0.379014</td>\n",
       "      <td>-0.451071</td>\n",
       "      <td>-0.291806</td>\n",
       "      <td>-0.611706</td>\n",
       "      <td>-0.499456</td>\n",
       "      <td>-0.453981</td>\n",
       "      <td>...</td>\n",
       "      <td>0</td>\n",
       "      <td>0</td>\n",
       "      <td>0</td>\n",
       "      <td>0</td>\n",
       "      <td>0</td>\n",
       "      <td>0</td>\n",
       "      <td>0</td>\n",
       "      <td>0</td>\n",
       "      <td>0</td>\n",
       "      <td>0</td>\n",
       "    </tr>\n",
       "    <tr>\n",
       "      <th>301</th>\n",
       "      <td>-0.571898</td>\n",
       "      <td>-0.374969</td>\n",
       "      <td>-0.83418</td>\n",
       "      <td>-0.696876</td>\n",
       "      <td>-0.534812</td>\n",
       "      <td>-0.726192</td>\n",
       "      <td>-0.298512</td>\n",
       "      <td>-0.783101</td>\n",
       "      <td>-0.640609</td>\n",
       "      <td>-0.546532</td>\n",
       "      <td>...</td>\n",
       "      <td>0</td>\n",
       "      <td>0</td>\n",
       "      <td>0</td>\n",
       "      <td>0</td>\n",
       "      <td>0</td>\n",
       "      <td>0</td>\n",
       "      <td>0</td>\n",
       "      <td>0</td>\n",
       "      <td>0</td>\n",
       "      <td>0</td>\n",
       "    </tr>\n",
       "    <tr>\n",
       "      <th>302</th>\n",
       "      <td>-0.571898</td>\n",
       "      <td>-0.172355</td>\n",
       "      <td>0.173621</td>\n",
       "      <td>3.179691</td>\n",
       "      <td>4.964528</td>\n",
       "      <td>1.068644</td>\n",
       "      <td>-0.09062</td>\n",
       "      <td>2.158903</td>\n",
       "      <td>7.700937</td>\n",
       "      <td>6.343575</td>\n",
       "      <td>...</td>\n",
       "      <td>0</td>\n",
       "      <td>0</td>\n",
       "      <td>0</td>\n",
       "      <td>1</td>\n",
       "      <td>0</td>\n",
       "      <td>0</td>\n",
       "      <td>0</td>\n",
       "      <td>0</td>\n",
       "      <td>0</td>\n",
       "      <td>0</td>\n",
       "    </tr>\n",
       "  </tbody>\n",
       "</table>\n",
       "<p>303 rows × 57 columns</p>\n",
       "</div>"
      ],
      "text/plain": [
       "    Features.Max Players Metrics.Sales Metrics.Used Price  \\\n",
       "0               0.234079      0.739406           -0.43106   \n",
       "1              -0.571898     -0.391854           0.576742   \n",
       "2              -0.571898      0.047143           0.576742   \n",
       "3               0.234079     -0.315874           -0.83418   \n",
       "4               0.234079     -0.290547           -0.83418   \n",
       "..                   ...           ...                ...   \n",
       "298            -0.571898     -0.374969          -0.027939   \n",
       "299             1.846032      2.816198           4.607947   \n",
       "300            -0.571898     -0.332758           -0.43106   \n",
       "301            -0.571898     -0.374969           -0.83418   \n",
       "302            -0.571898     -0.172355           0.173621   \n",
       "\n",
       "    Length.All PlayStyles.Average Length.All PlayStyles.Leisure  \\\n",
       "0                       -0.812119                     -0.606864   \n",
       "1                       -0.015943                        0.0705   \n",
       "2                       -0.219011                      0.591236   \n",
       "3                        0.356215                     -0.129284   \n",
       "4                       -0.232323                     -0.237626   \n",
       "..                            ...                           ...   \n",
       "298                     -0.339619                     -0.344082   \n",
       "299                     -0.645214                     -0.458988   \n",
       "300                     -0.453472                     -0.379014   \n",
       "301                     -0.696876                     -0.534812   \n",
       "302                      3.179691                      4.964528   \n",
       "\n",
       "    Length.All PlayStyles.Median Length.All PlayStyles.Polled  \\\n",
       "0                      -0.851962                    -0.311924   \n",
       "1                      -0.023717                     0.177628   \n",
       "2                       -0.17595                     1.082964   \n",
       "3                       0.688715                    -0.305218   \n",
       "4                      -0.475963                    -0.305218   \n",
       "..                           ...                          ...   \n",
       "298                    -0.208703                    -0.138905   \n",
       "299                    -0.726192                    -0.211332   \n",
       "300                    -0.451071                    -0.291806   \n",
       "301                    -0.726192                    -0.298512   \n",
       "302                     1.068644                     -0.09062   \n",
       "\n",
       "    Length.All PlayStyles.Rushed Length.Completionists.Average  \\\n",
       "0                      -0.851326                     -0.662004   \n",
       "1                      -0.131134                      0.054988   \n",
       "2                      -0.258932                       0.79628   \n",
       "3                        0.95581                      0.025654   \n",
       "4                      -0.290881                      0.051503   \n",
       "..                           ...                           ...   \n",
       "298                    -0.244621                     -0.346202   \n",
       "299                    -0.761469                     -0.561997   \n",
       "300                    -0.611706                     -0.499456   \n",
       "301                    -0.783101                     -0.640609   \n",
       "302                     2.158903                      7.700937   \n",
       "\n",
       "    Length.Completionists.Leisure  ... Metadata.Publisher_Microsoft  \\\n",
       "0                       -0.564965  ...                            0   \n",
       "1                        0.028112  ...                            0   \n",
       "2                        0.795685  ...                            0   \n",
       "3                       -0.081319  ...                            0   \n",
       "4                       -0.077503  ...                            0   \n",
       "..                            ...  ...                          ...   \n",
       "298                     -0.333619  ...                            0   \n",
       "299                       -0.4642  ...                            0   \n",
       "300                     -0.453981  ...                            0   \n",
       "301                     -0.546532  ...                            0   \n",
       "302                      6.343575  ...                            0   \n",
       "\n",
       "    Metadata.Publisher_Midway Metadata.Publisher_Namco  \\\n",
       "0                           0                        0   \n",
       "1                           0                        0   \n",
       "2                           0                        0   \n",
       "3                           0                        0   \n",
       "4                           0                        0   \n",
       "..                        ...                      ...   \n",
       "298                         0                        1   \n",
       "299                         0                        0   \n",
       "300                         0                        0   \n",
       "301                         0                        0   \n",
       "302                         0                        0   \n",
       "\n",
       "    Metadata.Publisher_Nintendo Metadata.Publisher_Rockstar  \\\n",
       "0                             0                           0   \n",
       "1                             0                           0   \n",
       "2                             0                           0   \n",
       "3                             0                           0   \n",
       "4                             0                           0   \n",
       "..                          ...                         ...   \n",
       "298                           0                           0   \n",
       "299                           1                           0   \n",
       "300                           0                           0   \n",
       "301                           0                           0   \n",
       "302                           1                           0   \n",
       "\n",
       "    Metadata.Publisher_Sega Metadata.Publisher_Sony  \\\n",
       "0                         0                       0   \n",
       "1                         0                       0   \n",
       "2                         0                       0   \n",
       "3                         0                       1   \n",
       "4                         0                       0   \n",
       "..                      ...                     ...   \n",
       "298                       0                       0   \n",
       "299                       0                       0   \n",
       "300                       0                       0   \n",
       "301                       0                       0   \n",
       "302                       0                       0   \n",
       "\n",
       "    Metadata.Publisher_SquareEnix Metadata.Publisher_THQ  \\\n",
       "0                               0                      0   \n",
       "1                               0                      0   \n",
       "2                               0                      0   \n",
       "3                               0                      0   \n",
       "4                               0                      0   \n",
       "..                            ...                    ...   \n",
       "298                             0                      0   \n",
       "299                             0                      0   \n",
       "300                             0                      0   \n",
       "301                             0                      0   \n",
       "302                             0                      0   \n",
       "\n",
       "    Metadata.Publisher_Ubisoft  \n",
       "0                            0  \n",
       "1                            0  \n",
       "2                            0  \n",
       "3                            0  \n",
       "4                            0  \n",
       "..                         ...  \n",
       "298                          0  \n",
       "299                          0  \n",
       "300                          0  \n",
       "301                          0  \n",
       "302                          0  \n",
       "\n",
       "[303 rows x 57 columns]"
      ]
     },
     "execution_count": 42,
     "metadata": {},
     "output_type": "execute_result"
    }
   ],
   "source": [
    "X_test"
   ]
  },
  {
   "cell_type": "code",
   "execution_count": 43,
   "metadata": {
    "id": "2M6GfpR8YUFb"
   },
   "outputs": [
    {
     "data": {
      "text/plain": [
       "(303, 57)"
      ]
     },
     "execution_count": 43,
     "metadata": {},
     "output_type": "execute_result"
    }
   ],
   "source": [
    "label= str(best_model.best_estimator_).split(\"(\")[0]\n",
    "if (label == 'XGBClassifier'):\n",
    "  X_test = X_test.astype(\"double\")\n",
    "else:\n",
    "  print('no')\n",
    "\n",
    "X_test.shape"
   ]
  },
  {
   "cell_type": "code",
   "execution_count": 44,
   "metadata": {
    "id": "TJH_PJaarplF"
   },
   "outputs": [
    {
     "name": "stdout",
     "output_type": "stream",
     "text": [
      "              precision    recall  f1-score   support\n",
      "\n",
      "          no       0.84      0.94      0.88       225\n",
      "         yes       0.73      0.47      0.57        78\n",
      "\n",
      "    accuracy                           0.82       303\n",
      "   macro avg       0.78      0.71      0.73       303\n",
      "weighted avg       0.81      0.82      0.80       303\n",
      "\n"
     ]
    }
   ],
   "source": [
    "# Create classification report\n",
    "y_pred = best_model.predict(X_test)\n",
    "#y_pred = best_model.predict(X_train)\n",
    "#target_names = ['class 0', 'class 1', 'class 2']\n",
    "print(classification_report(y_test, y_pred))"
   ]
  },
  {
   "cell_type": "code",
   "execution_count": 45,
   "metadata": {
    "id": "sNr9tNWar0w-"
   },
   "outputs": [
    {
     "data": {
      "text/plain": [
       "array([[211,  14],\n",
       "       [ 41,  37]], dtype=int64)"
      ]
     },
     "execution_count": 45,
     "metadata": {},
     "output_type": "execute_result"
    }
   ],
   "source": [
    "## Make the confusion matrix\n",
    "confusion_matrix(y_test, y_pred)"
   ]
  },
  {
   "cell_type": "code",
   "execution_count": 47,
   "metadata": {},
   "outputs": [
    {
     "data": {
      "image/png": "[encoded data removed]",
      "text/plain": [
       "<Figure size 432x432 with 2 Axes>"
      ]
     },
     "metadata": {},
     "output_type": "display_data"
    }
   ],
   "source": [
    "labels=[\"yes\",\"no\"]\n",
    "\n",
    "cm=confusion_matrix(y_test, y_pred, labels=labels)\n",
    "sns.set(style='whitegrid', palette='bright', font_scale=1)\n",
    "plt.rcParams['figure.figsize'] = 14, 8\n",
    "plt.figure(figsize=(6, 6))\n",
    "sns_plot=sns.heatmap(cm, xticklabels=labels, yticklabels=labels, annot=True, fmt=\"d\");\n",
    "plt.title(\"Video games classification\")\n",
    "plt.ylabel('True class')\n",
    "plt.xlabel('Predicted class')\n",
    "plt.show()"
   ]
  },
  {
   "cell_type": "code",
   "execution_count": null,
   "metadata": {
    "id": "FajVjIyIr3ta"
   },
   "outputs": [],
   "source": [
    "yhat = best_model.predict_proba(X_test)\n",
    "# keep probabilities for the positive outcome only\n",
    "lr_probs = yhat[:, 1]\n",
    "# calculate scores\n",
    "ns_probs = [0 for _ in range(len(y_test))]\n",
    "ns_auc = roc_auc_score(y_test, ns_probs)\n",
    "lr_auc = roc_auc_score(y_test, lr_probs)\n",
    "# summarize scores\n",
    "#print('No Skill: ROC AUC=%.3f' % (ns_auc))\n",
    "#print([label] + ': ROC AUC=%.3f' % (lr_auc))\n",
    "# calculate roc curves\n",
    "ns_fpr, ns_tpr, _ = roc_curve(y_test, ns_probs, pos_label=\"yes\")\n",
    "lr_fpr, lr_tpr, _ = roc_curve(y_test, lr_probs, pos_label=\"yes\")\n",
    "# plot the roc curve for the model\n",
    "plt.plot(ns_fpr, ns_tpr, linestyle='--', label='No Skill')\n",
    "plt.plot(lr_fpr, lr_tpr, marker='.', label=label)\n",
    "# axis labels\n",
    "plt.xlabel('False Positive Rate')\n",
    "plt.ylabel('True Positive Rate')\n",
    "# show the legend\n",
    "plt.legend()\n",
    "# show the plot\n",
    "plt.show()"
   ]
  },
  {
   "cell_type": "code",
   "execution_count": null,
   "metadata": {
    "id": "Kvd95Zkir8F-"
   },
   "outputs": [],
   "source": [
    "# Plot Precision/ Recall graph\n",
    "lr_precision, lr_recall, _ = precision_recall_curve(y_test, lr_probs, pos_label=  'yes')\n",
    "# plot the precision-recall curves\n",
    "no_skill = len(y_test[y_test==1]) / len(y_test)\n",
    "plt.plot([0, 1], [no_skill, no_skill], linestyle='--', label='No Skill')\n",
    "plt.plot(lr_recall, lr_precision, marker='.', label=label)\n",
    "# axis labels\n",
    "plt.xlabel('Recall')\n",
    "plt.ylabel('Precision')\n",
    "# show the legend\n",
    "plt.legend()\n",
    "# show the plot\n",
    "plt.show()"
   ]
  },
  {
   "cell_type": "code",
   "execution_count": null,
   "metadata": {},
   "outputs": [],
   "source": [
    "test_df"
   ]
  },
  {
   "cell_type": "code",
   "execution_count": null,
   "metadata": {},
   "outputs": [],
   "source": [
    "label"
   ]
  },
  {
   "cell_type": "code",
   "execution_count": null,
   "metadata": {},
   "outputs": [],
   "source": []
  }
 ],
 "metadata": {
  "colab": {
   "name": "main_test.ipynb",
   "provenance": []
  },
  "kernelspec": {
   "display_name": "Python 3",
   "language": "python",
   "name": "python3"
  },
  "language_info": {
   "codemirror_mode": {
    "name": "ipython",
    "version": 3
   },
   "file_extension": ".py",
   "mimetype": "text/x-python",
   "name": "python",
   "nbconvert_exporter": "python",
   "pygments_lexer": "ipython3",
   "version": "3.8.8"
  }
 },
 "nbformat": 4,
 "nbformat_minor": 1
}
